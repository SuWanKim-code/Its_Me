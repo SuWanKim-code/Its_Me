{
 "cells": [
  {
   "cell_type": "code",
   "execution_count": 8,
   "metadata": {},
   "outputs": [],
   "source": [
    "import re\n",
    "import math\n",
    "\n",
    "import pandas as pd\n",
    "import numpy as np"
   ]
  },
  {
   "cell_type": "code",
   "execution_count": 3,
   "metadata": {},
   "outputs": [],
   "source": [
    "import matplotlib.font_manager as fm\n",
    "import matplotlib.pyplot as plt\n",
    "from datetime import datetime\n",
    "from matplotlib import dates\n",
    "from pandas.plotting import register_matplotlib_converters"
   ]
  },
  {
   "cell_type": "code",
   "execution_count": 4,
   "metadata": {},
   "outputs": [],
   "source": [
    "import matplotlib.pyplot as plt\n",
    "import matplotlib.font_manager as fm\n",
    "\n",
    "font_path = 'C:/Windows/Fonts/SeoulNamsanB.ttf'\n",
    "fontprop = fm.FontProperties(fname=font_path)"
   ]
  },
  {
   "cell_type": "code",
   "execution_count": null,
   "metadata": {},
   "outputs": [],
   "source": [
    "from scipy.stats import norm\n",
    "import matplotlib.pyplot as plt\n",
    "import numpy as np"
   ]
  },
  {
   "cell_type": "code",
   "execution_count": 165,
   "metadata": {},
   "outputs": [],
   "source": [
    "def Draw_Distribution(username, percent):\n",
    "    plt.style.use('default')\n",
    "    plt.rcParams['figure.figsize'] = (6, 3)\n",
    "    plt.rcParams['axes.unicode_minus'] = False\n",
    "    plt.rcParams['font.family'] = 'NanumGothic'\n",
    "    plt.rcParams['font.size'] = 12\n",
    "    plt.rcParams['lines.linewidth'] = 5\n",
    "    font_path = 'C:/Windows/Fonts/SeoulNamsanB.ttf'\n",
    "    fontprop = fm.FontProperties(fname=font_path)\n",
    "    \n",
    "    rv = norm(loc = 1.5, scale = 1.5) \n",
    "    x = np.arange(-8, 8, 0.01)\n",
    "    y = rv.pdf(x) \n",
    "    fig, ax = plt.subplots(1,1) \n",
    "    \n",
    "    score = rv.ppf(percent)\n",
    "    score_y = rv.pdf(score)\n",
    "    \n",
    "    plt.plot(x, y, alpha=0.7, label=r\"잇츠미 사용자 분포\")\n",
    "    plt.xlabel(\"It's Me 포인트\", fontproperties=fontprop)\n",
    "    plt.ylabel('사용자 누적 비율', fontproperties=fontprop)\n",
    "    plt.title(\"{}님의 신용분포\".format(username), fontproperties=fontprop)\n",
    "    # 사용자 위치 표시 \n",
    "    x_score  = np.arange(score, 8, 0.01)\n",
    "    y_score = rv.pdf(x_score)\n",
    "    ax.vlines(x_score, 0,  y_score, colors='steelblue', lw = 5,  label= \"{}님 현재 위치\".format(username))\n",
    "    plt.legend(bbox_to_anchor=(0.7, 0.95), fontsize= 8)\n",
    "\n",
    "    file_save = \"C:/Users/swan3/Desktop/NH_해커톤/It's Me/app/static/img/dist/\" + username +  '-dist.jpg'\n",
    "    plt.savefig(file_save, bbox_inches = 'tight')\n",
    "    plt.clf()\n",
    "    \n",
    "    return file_save"
   ]
  },
  {
   "cell_type": "code",
   "execution_count": 166,
   "metadata": {},
   "outputs": [
    {
     "data": {
      "text/plain": [
       "\"C:/Users/swan3/Desktop/NH_해커톤/It's Me/app/static/img/dist/USER1-dist.jpg\""
      ]
     },
     "execution_count": 166,
     "metadata": {},
     "output_type": "execute_result"
    },
    {
     "data": {
      "text/plain": [
       "<Figure size 600x300 with 0 Axes>"
      ]
     },
     "metadata": {},
     "output_type": "display_data"
    }
   ],
   "source": [
    "Draw_Distribution('USER1', 0.90)"
   ]
  },
  {
   "cell_type": "code",
   "execution_count": 42,
   "metadata": {},
   "outputs": [
    {
     "data": {
      "text/plain": [
       "89.28"
      ]
     },
     "execution_count": 42,
     "metadata": {},
     "output_type": "execute_result"
    }
   ],
   "source": [
    "(88.51 + 90.05) /2"
   ]
  },
  {
   "cell_type": "code",
   "execution_count": 163,
   "metadata": {},
   "outputs": [],
   "source": [
    "from matplotlib import pyplot as plt\n",
    "def create_x(t, w, n, d):\n",
    "    return [t*x + w*n for x in range(d)]\n",
    "\n",
    "def Draw_BarChart(username, user_df):\n",
    "    plt.style.use('default')\n",
    "    plt.rcParams['figure.figsize'] = (6, 3)\n",
    "    plt.rcParams['axes.unicode_minus'] = False\n",
    "    plt.rcParams['font.family'] = 'NanumGothic'\n",
    "    plt.rcParams['font.size'] = 10\n",
    "    plt.rcParams['lines.linewidth'] = 5\n",
    "    \n",
    "    font_path = 'C:/Windows/Fonts/SeoulNamsanB.ttf'\n",
    "    fontprop = fm.FontProperties(fname=font_path)\n",
    "    topics = ['종합(%)', '과제제출(%)', '출석(%)' ]\n",
    "    avg = [89.28, 88.51, 90.05]\n",
    "    user= user_df\n",
    "    avg_x = create_x(2, 0.8, 1, 3)\n",
    "    user_x = create_x(2, 0.8, 2, 3)\n",
    "\n",
    "    ax = plt.subplot()\n",
    "    ax.bar(avg_x, avg, facecolor='#9999ff', edgecolor='white')\n",
    "    ax.bar(user_x, user, facecolor='#ff9999', edgecolor='white')\n",
    "\n",
    "    for x,y in zip(avg_x,avg):\n",
    "        plt.text(x-0.01, y+4.5, '{}%'.format(y), ha='center', va= 'top', fontsize = 7.5)\n",
    "\n",
    "    for x,y in zip(user_x, user):\n",
    "        plt.text(x+0.01, y+4.5,'{}%'.format(y), ha='center', va= 'top', fontsize = 7.5)\n",
    "\n",
    "    middle_x = [(a+b)/2 for (a,b) in zip(avg_x, user_x)]\n",
    "    ax.set_xticks(middle_x)\n",
    "    ax.set_xticklabels(topics)\n",
    "    \n",
    "    plt.xlabel('평가기준')\n",
    "    plt.ylabel('퍼센트(%)')\n",
    "    plt.legend(['평균', username],loc='upper center', bbox_to_anchor=(0.9, 0.25), ncol = 1, fontsize = 9)\n",
    "\n",
    "    plt.title(\"{}님의 학교생활 데이터\".format(username))\n",
    "\n",
    "    file_save = \"C:/Users/swan3/Desktop/NH_해커톤/It's Me/app/static/img/barchart/\" + username +  '-barchart.jpg'\n",
    "    plt.savefig(file_save, bbox_inches = 'tight')\n",
    "    plt.clf()\n",
    "    \n",
    "    return file_save"
   ]
  },
  {
   "cell_type": "code",
   "execution_count": 164,
   "metadata": {},
   "outputs": [
    {
     "data": {
      "text/plain": [
       "\"C:/Users/swan3/Desktop/NH_해커톤/It's Me/app/static/img/barchart/USER1-barchart.jpg\""
      ]
     },
     "execution_count": 164,
     "metadata": {},
     "output_type": "execute_result"
    },
    {
     "data": {
      "text/plain": [
       "<Figure size 600x300 with 0 Axes>"
      ]
     },
     "metadata": {},
     "output_type": "display_data"
    }
   ],
   "source": [
    "Draw_BarChart('USER1', [97.43, 94.85, 100.0]  ) # [90.04, 0.05, 90.51,  5.14, 88.05]"
   ]
  },
  {
   "cell_type": "code",
   "execution_count": 47,
   "metadata": {},
   "outputs": [
    {
     "data": {
      "text/plain": [
       "97.425"
      ]
     },
     "execution_count": 47,
     "metadata": {},
     "output_type": "execute_result"
    }
   ],
   "source": [
    "(94.85 + 100.0)/2"
   ]
  },
  {
   "cell_type": "markdown",
   "metadata": {},
   "source": [
    "## 평균 \n",
    "*  [90.04, 0.05, 90.51,  5.14, 88.05]\n",
    "##  사용자 1  \n",
    "* 그룹의 분포 매우 높음. \n",
    "* 신용 등급 2% \n",
    "* point 50점\n",
    "* 학교 태도 :  [96.54, 0.25, 94.85, 8.52, 100.0]  ( ['종합(%)', '참여(%)', '제출(%)', '성과(%)', '출석(%)' ]) \n",
    "\n",
    "## 사용자 2 \n",
    "* 그룹분포 중간 \n",
    "* 신용 등급 20% \n",
    "* point 30점\n",
    "* 학교 태도 :  [88.19, 0.06, 90.85, 6.52, 92.8]  ( ['종합(%)', '참여(%)', '제출(%)', '성과(%)', '출석(%)' ]) \n",
    "\n",
    "## 사용자 3\n",
    "* 그룹분포 평균과 비슷 \n",
    "* 신용 등급 35% \n",
    "* point 11점\n",
    "* 학교 태도 :  [77.19, 0.01, 88.6, 4.46, 90.8]  ( ['종합(%)', '참여(%)', '제출(%)', '성과(%)', '출석(%)' ]) \n"
   ]
  },
  {
   "cell_type": "code",
   "execution_count": null,
   "metadata": {},
   "outputs": [],
   "source": []
  }
 ],
 "metadata": {
  "kernelspec": {
   "display_name": "Python 3",
   "language": "python",
   "name": "python3"
  },
  "language_info": {
   "codemirror_mode": {
    "name": "ipython",
    "version": 3
   },
   "file_extension": ".py",
   "mimetype": "text/x-python",
   "name": "python",
   "nbconvert_exporter": "python",
   "pygments_lexer": "ipython3",
   "version": "3.7.5"
  }
 },
 "nbformat": 4,
 "nbformat_minor": 4
}
